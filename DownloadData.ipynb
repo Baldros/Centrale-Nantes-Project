{
  "nbformat": 4,
  "nbformat_minor": 0,
  "metadata": {
    "colab": {
      "provenance": [],
      "authorship_tag": "ABX9TyPy2d+I9Qd6UmPLxoOctaEr",
      "include_colab_link": true
    },
    "kernelspec": {
      "name": "python3",
      "display_name": "Python 3"
    },
    "language_info": {
      "name": "python"
    }
  },
  "cells": [
    {
      "cell_type": "markdown",
      "metadata": {
        "id": "view-in-github",
        "colab_type": "text"
      },
      "source": [
        "<a href=\"https://colab.research.google.com/github/Baldros/Centrale-Nantes-Project/blob/main/DownloadData.ipynb\" target=\"_parent\"><img src=\"https://colab.research.google.com/assets/colab-badge.svg\" alt=\"Open In Colab\"/></a>"
      ]
    },
    {
      "cell_type": "markdown",
      "source": [
        "# Presentation:\n",
        "\n",
        "    The purpose of this notebook is to address the data acquisition\n",
        "    process. Since the dataset we will be using needs to undergo a\n",
        "    process of acquisition and preprocessing in order to adjust it to\n",
        "    the purpose of the activity, we will download and preprocess it\n",
        "    here so that it serves the class's purpose well.\n",
        "\n",
        "Documentation:\n",
        "https://colab.research.google.com/notebooks/io.ipynb"
      ],
      "metadata": {
        "id": "MEnBi3kl4VfL"
      }
    },
    {
      "cell_type": "code",
      "execution_count": null,
      "metadata": {
        "colab": {
          "base_uri": "https://localhost:8080/"
        },
        "id": "NzVrIv2pfMso",
        "outputId": "13c9cbc6-bc7e-43ff-a895-e2b10f4ed174"
      },
      "outputs": [
        {
          "output_type": "stream",
          "name": "stdout",
          "text": [
            "Collecting selenium\n",
            "  Downloading selenium-4.20.0-py3-none-any.whl (9.5 MB)\n",
            "\u001b[2K     \u001b[90m━━━━━━━━━━━━━━━━━━━━━━━━━━━━━━━━━━━━━━━━\u001b[0m \u001b[32m9.5/9.5 MB\u001b[0m \u001b[31m48.8 MB/s\u001b[0m eta \u001b[36m0:00:00\u001b[0m\n",
            "\u001b[?25hRequirement already satisfied: urllib3[socks]<3,>=1.26 in /usr/local/lib/python3.10/dist-packages (from selenium) (2.0.7)\n",
            "Collecting trio~=0.17 (from selenium)\n",
            "  Downloading trio-0.25.0-py3-none-any.whl (467 kB)\n",
            "\u001b[2K     \u001b[90m━━━━━━━━━━━━━━━━━━━━━━━━━━━━━━━━━━━━━━━━\u001b[0m \u001b[32m467.2/467.2 kB\u001b[0m \u001b[31m39.0 MB/s\u001b[0m eta \u001b[36m0:00:00\u001b[0m\n",
            "\u001b[?25hCollecting trio-websocket~=0.9 (from selenium)\n",
            "  Downloading trio_websocket-0.11.1-py3-none-any.whl (17 kB)\n",
            "Requirement already satisfied: certifi>=2021.10.8 in /usr/local/lib/python3.10/dist-packages (from selenium) (2024.2.2)\n",
            "Requirement already satisfied: typing_extensions>=4.9.0 in /usr/local/lib/python3.10/dist-packages (from selenium) (4.11.0)\n",
            "Requirement already satisfied: attrs>=23.2.0 in /usr/local/lib/python3.10/dist-packages (from trio~=0.17->selenium) (23.2.0)\n",
            "Requirement already satisfied: sortedcontainers in /usr/local/lib/python3.10/dist-packages (from trio~=0.17->selenium) (2.4.0)\n",
            "Requirement already satisfied: idna in /usr/local/lib/python3.10/dist-packages (from trio~=0.17->selenium) (3.7)\n",
            "Collecting outcome (from trio~=0.17->selenium)\n",
            "  Downloading outcome-1.3.0.post0-py2.py3-none-any.whl (10 kB)\n",
            "Requirement already satisfied: sniffio>=1.3.0 in /usr/local/lib/python3.10/dist-packages (from trio~=0.17->selenium) (1.3.1)\n",
            "Requirement already satisfied: exceptiongroup in /usr/local/lib/python3.10/dist-packages (from trio~=0.17->selenium) (1.2.1)\n",
            "Collecting wsproto>=0.14 (from trio-websocket~=0.9->selenium)\n",
            "  Downloading wsproto-1.2.0-py3-none-any.whl (24 kB)\n",
            "Requirement already satisfied: pysocks!=1.5.7,<2.0,>=1.5.6 in /usr/local/lib/python3.10/dist-packages (from urllib3[socks]<3,>=1.26->selenium) (1.7.1)\n",
            "Collecting h11<1,>=0.9.0 (from wsproto>=0.14->trio-websocket~=0.9->selenium)\n",
            "  Downloading h11-0.14.0-py3-none-any.whl (58 kB)\n",
            "\u001b[2K     \u001b[90m━━━━━━━━━━━━━━━━━━━━━━━━━━━━━━━━━━━━━━━━\u001b[0m \u001b[32m58.3/58.3 kB\u001b[0m \u001b[31m7.3 MB/s\u001b[0m eta \u001b[36m0:00:00\u001b[0m\n",
            "\u001b[?25hInstalling collected packages: outcome, h11, wsproto, trio, trio-websocket, selenium\n",
            "Successfully installed h11-0.14.0 outcome-1.3.0.post0 selenium-4.20.0 trio-0.25.0 trio-websocket-0.11.1 wsproto-1.2.0\n"
          ]
        }
      ],
      "source": [
        "!pip install selenium"
      ]
    },
    {
      "cell_type": "markdown",
      "source": [
        "# Download the data:\n",
        "\n",
        "    The first step is to acquire the data. The data used here are\n",
        "    provided by Meteo France and downloaded directly from their domain.\n",
        "    For the scraping process of this data, I use the Selenium library\n",
        "    for this purpose.\n",
        "    \n",
        "    Selenium is a very useful web automation library in these types\n",
        "    of cases. It works in the background, and if you are using it in\n",
        "    Colab, indeed, you won't see the process, only the result.\n",
        "\n",
        "Documentation:\n",
        "https://selenium-python.readthedocs.io/index.html"
      ],
      "metadata": {
        "id": "y3KqBpxXfbH9"
      }
    },
    {
      "cell_type": "code",
      "source": [
        "from selenium import webdriver\n",
        "from selenium.webdriver.support.ui import WebDriverWait\n",
        "from selenium.webdriver.support import expected_conditions as EC\n",
        "from time import sleep"
      ],
      "metadata": {
        "id": "B4ZiLHdrfTTy"
      },
      "execution_count": null,
      "outputs": []
    },
    {
      "cell_type": "code",
      "source": [
        "options = webdriver.ChromeOptions()\n",
        "options.add_argument('--no-sandbox')\n",
        "options.add_argument('--headless')\n",
        "options.add_argument('--disable-gpu')\n",
        "options.add_argument('--disable-dve-shm-uage')\n",
        "\n",
        "driver = webdriver.Chrome(options=options)"
      ],
      "metadata": {
        "id": "6hJvl98wfWSu"
      },
      "execution_count": null,
      "outputs": []
    },
    {
      "cell_type": "code",
      "source": [
        "driver.get('https://meteonet.umr-cnrm.fr/dataset/data/NW/ground_stations/')"
      ],
      "metadata": {
        "id": "Ckz1HP2NfW0w"
      },
      "execution_count": null,
      "outputs": []
    },
    {
      "cell_type": "code",
      "source": [
        "# Access the page with the data\n",
        "elements = driver.find_elements('xpath','/html/body/table/tbody/tr[position() >= 4 and position() <= 6]/td[2]/a')\n",
        "\n",
        "# Iterate over the elements and download each file\n",
        "for element in elements:\n",
        "    # Get the URL of the link\n",
        "    link_url = element.get_attribute(\"href\")\n",
        "\n",
        "    # Navigate to the URL of the link\n",
        "    driver.get(link_url)\n",
        "\n",
        "    # Wait for the download to complete\n",
        "    WebDriverWait(driver, 60).until(EC.invisibility_of_element_located(('xpath', '//*[@id=\"download_progress\"]')))\n",
        "sleep(60)"
      ],
      "metadata": {
        "id": "vmlg0zV0fYWY"
      },
      "execution_count": null,
      "outputs": []
    },
    {
      "cell_type": "markdown",
      "source": [
        "# Unzipping files:\n",
        "\n",
        "    The downloaded data comes in an uncompressed format, so there is\n",
        "    a need to unzip it to work with it. Here, I will unzip it using\n",
        "    two libraries native to the Python ecosystem.\n",
        "\n",
        "Documentation:\n",
        "\n",
        "tarfile: https://docs.python.org/3/library/tarfile.html\n",
        "\n",
        "os: https://docs.python.org/pt-br/3/library/os.html\n"
      ],
      "metadata": {
        "id": "Ihx-6GRqfdDx"
      }
    },
    {
      "cell_type": "code",
      "source": [
        "import tarfile\n",
        "import os"
      ],
      "metadata": {
        "id": "o--vlB9RfaT4"
      },
      "execution_count": null,
      "outputs": []
    },
    {
      "cell_type": "code",
      "source": [
        "# Define the directory where the files are located\n",
        "download_dir = \"/content\""
      ],
      "metadata": {
        "id": "jUN4wbFGHxb5"
      },
      "execution_count": null,
      "outputs": []
    },
    {
      "cell_type": "code",
      "source": [
        "# Filtering files with tar.gz extension\n",
        "tar_files = [file for file in os.listdir(download_dir) if file.endswith(\".tar.gz\")]\n",
        "\n",
        "# Iterating over tar.gz files\n",
        "for file_name in tar_files:\n",
        "    # Complete path\n",
        "    file_path = os.path.join(download_dir, file_name)\n",
        "\n",
        "    # Extracting the tar.gz file\n",
        "    with tarfile.open(file_path, 'r:gz') as tar:\n",
        "        # Extract all members to the extraction directory\n",
        "        tar.extractall(download_dir)\n",
        "\n",
        "    # Remove the zip tar.gz files after extraction\n",
        "    os.remove(file_path)\n",
        "    print(f\"File {file_name} extracted successfully.\")\n"
      ],
      "metadata": {
        "colab": {
          "base_uri": "https://localhost:8080/"
        },
        "id": "V-3NCsiUfhEh",
        "outputId": "e4e00e15-9a92-468d-9540-65a76ba73485"
      },
      "execution_count": null,
      "outputs": [
        {
          "output_type": "stream",
          "name": "stdout",
          "text": [
            "File NW_ground_stations_2018.tar.gz extracted successfully.\n",
            "File NW_ground_stations_2017.tar.gz extracted successfully.\n",
            "File NW_ground_stations_2016.tar.gz extracted successfully.\n"
          ]
        }
      ]
    },
    {
      "cell_type": "code",
      "source": [
        "# Filtering the csv files\n",
        "csv_files = [file for file in os.listdir(download_dir) if file.endswith(\"csv\")];csv_files"
      ],
      "metadata": {
        "colab": {
          "base_uri": "https://localhost:8080/"
        },
        "id": "Xe4BjSPwfiix",
        "outputId": "fbbd7aab-35ba-41cd-f5aa-489b2e237504"
      },
      "execution_count": null,
      "outputs": [
        {
          "output_type": "execute_result",
          "data": {
            "text/plain": [
              "['NW2016.csv', 'NW2017.csv', 'NW2018.csv']"
            ]
          },
          "metadata": {},
          "execution_count": 13
        }
      ]
    },
    {
      "cell_type": "markdown",
      "source": [
        "# Data Manipulation:\n",
        "\n",
        "    Provavelmente, when it comes to data manipulation, you think of the\n",
        "    Pandas library. However, here I'll introduce another library: Polars.\n",
        "    Polars is another data manipulation library with performance comparable\n",
        "    to Pandas. For example, given the limitations of Colab, I needed to use\n",
        "    the Polars library here. I recommend that you try it out in your\n",
        "    analyses.\n",
        "\n",
        "    The idea here is to combine all subsets of all datasets downloaded\n",
        "    from Meteo France into a single dataset, so that we have information\n",
        "    from the 3 years provided, but without overloading our working environment.\n",
        "\n",
        "Polar: https://pola.rs/\n",
        "\n",
        "    Polars is a newer library, still not widely used, but it exhibits\n",
        "    enormous capability and impressive results in data compression. Polars\n",
        "    was benchmarked against several other solutions on the independent\n",
        "    TPC-H Benchmark. This benchmark aims to replicate data wrangling\n",
        "    operations used in practice. Polars easily trumps other solutions\n",
        "    due to its parallel execution engine, efficient algorithms and use\n",
        "    of vectorization with SIMD (Single Instruction, Multiple Data).\n",
        "    Compared to pandas, it can achieve more than 30x performance gains."
      ],
      "metadata": {
        "id": "iEsFcuCR3Zcj"
      }
    },
    {
      "cell_type": "code",
      "source": [
        "import polars as pl\n",
        "from time import time"
      ],
      "metadata": {
        "id": "wzBtQRSM0o3g"
      },
      "execution_count": null,
      "outputs": []
    },
    {
      "cell_type": "code",
      "source": [
        "tables = []\n",
        "df = pl.read_csv(csv_files[0])[0:500];tables.append(df)\n",
        "df = pl.read_csv(csv_files[1])[0:500];tables.append(df)\n",
        "df = pl.read_csv(csv_files[2])[0:500];tables.append(df)"
      ],
      "metadata": {
        "id": "41C-kA_Y6KtO"
      },
      "execution_count": null,
      "outputs": []
    },
    {
      "cell_type": "code",
      "source": [
        "df = pl.concat(tables,how='vertical');df"
      ],
      "metadata": {
        "colab": {
          "base_uri": "https://localhost:8080/",
          "height": 882
        },
        "id": "BJqTNIhg62_Q",
        "outputId": "da0e9e77-4c7a-4f2e-8f3c-e180ffae79f2"
      },
      "execution_count": null,
      "outputs": [
        {
          "output_type": "execute_result",
          "data": {
            "text/plain": [
              "shape: (1_500, 12)\n",
              "┌────────────┬────────┬────────┬────────────┬───┬──────┬────────┬────────┬────────────┐\n",
              "│ number_sta ┆ lat    ┆ lon    ┆ height_sta ┆ … ┆ hu   ┆ td     ┆ t      ┆ psl\n",
              "        │\n",
              "│ ---        ┆ ---    ┆ ---    ┆ ---        ┆   ┆ ---  ┆ ---    ┆ ---    ┆ ---        │\n",
              "│ i64        ┆ f64    ┆ f64    ┆ f64        ┆   ┆ f64  ┆ f64    ┆ f64    ┆ str        │\n",
              "╞════════════╪════════╪════════╪════════════╪═══╪══════╪════════╪════════╪════════════╡\n",
              "│ 14066001   ┆ 49.33  ┆ -0.43  ┆ 2.0        ┆ … ┆ 91.0 ┆ 278.45 ┆ 279.85 ┆ \n",
              "           │\n",
              "│ 14126001   ┆ 49.15  ┆ 0.04   ┆ 125.0      ┆ … ┆ 99.0 ┆ 278.35 ┆ 278.45 ┆ \n",
              "           │\n",
              "│ 14137001   ┆ 49.18  ┆ -0.46  ┆ 67.0       ┆ … ┆ 92.0 ┆ 276.45 ┆ 277.65 ┆ 102360.000\n",
              " │\n",
              "│ 14216001   ┆ 48.93  ┆ -0.15  ┆ 155.0      ┆ … ┆ 95.0 ┆ 278.25 ┆ 278.95 ┆ \n",
              "           │\n",
              "│ …          ┆ …      ┆ …      ┆ …          ┆ … ┆ …    ┆ …      ┆ …      ┆ …          │\n",
              "│ 14066001   ┆ 49.33  ┆ -0.43  ┆ 2.0        ┆ … ┆ 85.0 ┆ 277.05 ┆ 279.35 ┆ \n",
              "           │\n",
              "│ 14126001   ┆ 49.15  ┆ 0.04   ┆ 125.0      ┆ … ┆ null ┆ null   ┆ null   ┆ \n",
              "           │\n",
              "│ 14137001   ┆ 49.18  ┆ -0.46  ┆ 67.0       ┆ … ┆ 87.0 ┆ 278.05 ┆ 280.05 ┆ 100680.000\n",
              " │\n",
              "│ 14216001   ┆ 48.928 ┆ -0.149 ┆ 155.0      ┆ … ┆ 79.0 ┆ 276.65 ┆ 280.05 ┆ \n",
              "           │\n",
              "└────────────┴────────┴────────┴────────────┴───┴──────┴────────┴────────┴────────────┘"
            ],
            "text/html": [
              "<div><style>\n",
              ".dataframe > thead > tr,\n",
              ".dataframe > tbody > tr {\n",
              "  text-align: right;\n",
              "  white-space: pre-wrap;\n",
              "}\n",
              "</style>\n",
              "<small>shape: (1_500, 12)</small><table border=\"1\" class=\"dataframe\"><thead><tr><th>number_sta</th><th>lat</th><th>lon</th><th>height_sta</th><th>date</th><th>dd</th><th>ff</th><th>precip</th><th>hu</th><th>td</th><th>t</th><th>psl\r</th></tr><tr><td>i64</td><td>f64</td><td>f64</td><td>f64</td><td>str</td><td>f64</td><td>f64</td><td>f64</td><td>f64</td><td>f64</td><td>f64</td><td>str</td></tr></thead><tbody><tr><td>14066001</td><td>49.33</td><td>-0.43</td><td>2.0</td><td>&quot;20160101 00:00…</td><td>210.0</td><td>4.4</td><td>0.0</td><td>91.0</td><td>278.45</td><td>279.85</td><td>&quot;\r&quot;</td></tr><tr><td>14126001</td><td>49.15</td><td>0.04</td><td>125.0</td><td>&quot;20160101 00:00…</td><td>null</td><td>null</td><td>0.0</td><td>99.0</td><td>278.35</td><td>278.45</td><td>&quot;\r&quot;</td></tr><tr><td>14137001</td><td>49.18</td><td>-0.46</td><td>67.0</td><td>&quot;20160101 00:00…</td><td>220.0</td><td>0.6</td><td>0.0</td><td>92.0</td><td>276.45</td><td>277.65</td><td>&quot;102360.000\r&quot;</td></tr><tr><td>14216001</td><td>48.93</td><td>-0.15</td><td>155.0</td><td>&quot;20160101 00:00…</td><td>220.0</td><td>1.9</td><td>0.0</td><td>95.0</td><td>278.25</td><td>278.95</td><td>&quot;\r&quot;</td></tr><tr><td>14296001</td><td>48.8</td><td>-1.03</td><td>339.0</td><td>&quot;20160101 00:00…</td><td>null</td><td>null</td><td>0.0</td><td>null</td><td>null</td><td>278.35</td><td>&quot;\r&quot;</td></tr><tr><td>14357002</td><td>48.93</td><td>-0.69</td><td>223.0</td><td>&quot;20160101 00:00…</td><td>null</td><td>null</td><td>0.0</td><td>null</td><td>null</td><td>277.65</td><td>&quot;\r&quot;</td></tr><tr><td>14366002</td><td>49.17</td><td>0.23</td><td>62.0</td><td>&quot;20160101 00:00…</td><td>null</td><td>null</td><td>0.0</td><td>null</td><td>null</td><td>279.55</td><td>&quot;\r&quot;</td></tr><tr><td>14372001</td><td>49.102</td><td>-0.765</td><td>184.0</td><td>&quot;20160101 00:00…</td><td>230.0</td><td>4.1</td><td>0.0</td><td>92.0</td><td>278.05</td><td>279.25</td><td>&quot;\r&quot;</td></tr><tr><td>14501002</td><td>48.89</td><td>-0.39</td><td>185.0</td><td>&quot;20160101 00:00…</td><td>null</td><td>null</td><td>0.0</td><td>null</td><td>null</td><td>278.35</td><td>&quot;\r&quot;</td></tr><tr><td>14515001</td><td>49.35</td><td>-0.77</td><td>68.0</td><td>&quot;20160101 00:00…</td><td>220.0</td><td>5.1</td><td>null</td><td>null</td><td>null</td><td>null</td><td>&quot;\r&quot;</td></tr><tr><td>14577003</td><td>49.28</td><td>-0.56</td><td>15.0</td><td>&quot;20160101 00:00…</td><td>null</td><td>null</td><td>0.0</td><td>99.0</td><td>279.65</td><td>279.75</td><td>&quot;\r&quot;</td></tr><tr><td>14578001</td><td>49.36</td><td>0.17</td><td>143.0</td><td>&quot;20160101 00:00…</td><td>230.0</td><td>2.5</td><td>0.0</td><td>96.0</td><td>277.45</td><td>278.05</td><td>&quot;102380.000\r&quot;</td></tr><tr><td>&hellip;</td><td>&hellip;</td><td>&hellip;</td><td>&hellip;</td><td>&hellip;</td><td>&hellip;</td><td>&hellip;</td><td>&hellip;</td><td>&hellip;</td><td>&hellip;</td><td>&hellip;</td><td>&hellip;</td></tr><tr><td>86027001</td><td>46.59</td><td>0.31</td><td>120.0</td><td>&quot;20180101 00:06…</td><td>230.0</td><td>6.5</td><td>0.0</td><td>78.0</td><td>276.95</td><td>280.55</td><td>&quot;101580.000\r&quot;</td></tr><tr><td>86039001</td><td>46.28</td><td>0.19</td><td>148.0</td><td>&quot;20180101 00:06…</td><td>null</td><td>null</td><td>0.0</td><td>null</td><td>null</td><td>281.35</td><td>&quot;\r&quot;</td></tr><tr><td>86097001</td><td>46.32</td><td>0.41</td><td>122.0</td><td>&quot;20180101 00:06…</td><td>null</td><td>null</td><td>0.0</td><td>null</td><td>null</td><td>281.45</td><td>&quot;\r&quot;</td></tr><tr><td>86137003</td><td>47.035</td><td>0.098</td><td>96.0</td><td>&quot;20180101 00:06…</td><td>190.0</td><td>2.7</td><td>0.0</td><td>81.0</td><td>277.25</td><td>280.25</td><td>&quot;\r&quot;</td></tr><tr><td>86165005</td><td>46.412</td><td>0.841</td><td>153.0</td><td>&quot;20180101 00:06…</td><td>240.0</td><td>3.6</td><td>0.0</td><td>76.0</td><td>277.25</td><td>281.25</td><td>&quot;\r&quot;</td></tr><tr><td>86272002</td><td>46.84</td><td>0.45</td><td>120.0</td><td>&quot;20180101 00:06…</td><td>null</td><td>null</td><td>0.0</td><td>null</td><td>null</td><td>null</td><td>&quot;\r&quot;</td></tr><tr><td>91200002</td><td>48.527</td><td>1.995</td><td>116.0</td><td>&quot;20180101 00:06…</td><td>250.0</td><td>4.8</td><td>0.0</td><td>74.0</td><td>277.15</td><td>281.55</td><td>&quot;\r&quot;</td></tr><tr><td>95690001</td><td>49.108</td><td>1.831</td><td>126.0</td><td>&quot;20180101 00:06…</td><td>230.0</td><td>9.4</td><td>0.0</td><td>75.0</td><td>276.65</td><td>280.85</td><td>&quot;\r&quot;</td></tr><tr><td>14066001</td><td>49.33</td><td>-0.43</td><td>2.0</td><td>&quot;20180101 00:12…</td><td>240.0</td><td>8.1</td><td>0.0</td><td>85.0</td><td>277.05</td><td>279.35</td><td>&quot;\r&quot;</td></tr><tr><td>14126001</td><td>49.15</td><td>0.04</td><td>125.0</td><td>&quot;20180101 00:12…</td><td>null</td><td>null</td><td>0.0</td><td>null</td><td>null</td><td>null</td><td>&quot;\r&quot;</td></tr><tr><td>14137001</td><td>49.18</td><td>-0.46</td><td>67.0</td><td>&quot;20180101 00:12…</td><td>270.0</td><td>5.3</td><td>0.0</td><td>87.0</td><td>278.05</td><td>280.05</td><td>&quot;100680.000\r&quot;</td></tr><tr><td>14216001</td><td>48.928</td><td>-0.149</td><td>155.0</td><td>&quot;20180101 00:12…</td><td>240.0</td><td>4.5</td><td>0.0</td><td>79.0</td><td>276.65</td><td>280.05</td><td>&quot;\r&quot;</td></tr></tbody></table></div>"
            ]
          },
          "metadata": {},
          "execution_count": 16
        }
      ]
    },
    {
      "cell_type": "markdown",
      "source": [
        "# Visualization of the region:\n",
        "\n",
        "    Visualizations are a great way to understand things. Since we are\n",
        "    working with georeferenced data here, we can leverage that information\n",
        "    to create georeferenced plots.\n",
        "\n",
        "    To do this, we will use two solutions: Cartopy, a library designed\n",
        "    for this purpose, and by downloading the files from the Meteo France\n",
        "    GitHub to our working environment, we will use a solution created by\n",
        "    the GitHub developers themselves.\n",
        "\n",
        "cartopy:https://scitools.org.uk/cartopy/docs/latest/"
      ],
      "metadata": {
        "id": "3n-nP0fUGj79"
      }
    },
    {
      "cell_type": "code",
      "source": [
        "!pip install cartopy"
      ],
      "metadata": {
        "colab": {
          "base_uri": "https://localhost:8080/"
        },
        "id": "VLrRCXrgQlHB",
        "outputId": "fcbd5dd9-0618-40ce-a30b-1b540e535206"
      },
      "execution_count": null,
      "outputs": [
        {
          "output_type": "stream",
          "name": "stdout",
          "text": [
            "Collecting cartopy\n",
            "  Downloading Cartopy-0.23.0-cp310-cp310-manylinux_2_17_x86_64.manylinux2014_x86_64.whl (11.6 MB)\n",
            "\u001b[2K     \u001b[90m━━━━━━━━━━━━━━━━━━━━━━━━━━━━━━━━━━━━━━━━\u001b[0m \u001b[32m11.6/11.6 MB\u001b[0m \u001b[31m59.3 MB/s\u001b[0m eta \u001b[36m0:00:00\u001b[0m\n",
            "\u001b[?25hRequirement already satisfied: numpy>=1.21 in /usr/local/lib/python3.10/dist-packages (from cartopy) (1.25.2)\n",
            "Requirement already satisfied: matplotlib>=3.5 in /usr/local/lib/python3.10/dist-packages (from cartopy) (3.7.1)\n",
            "Requirement already satisfied: shapely>=1.7 in /usr/local/lib/python3.10/dist-packages (from cartopy) (2.0.4)\n",
            "Requirement already satisfied: packaging>=20 in /usr/local/lib/python3.10/dist-packages (from cartopy) (24.0)\n",
            "Requirement already satisfied: pyshp>=2.3 in /usr/local/lib/python3.10/dist-packages (from cartopy) (2.3.1)\n",
            "Requirement already satisfied: pyproj>=3.3.1 in /usr/local/lib/python3.10/dist-packages (from cartopy) (3.6.1)\n",
            "Requirement already satisfied: contourpy>=1.0.1 in /usr/local/lib/python3.10/dist-packages (from matplotlib>=3.5->cartopy) (1.2.1)\n",
            "Requirement already satisfied: cycler>=0.10 in /usr/local/lib/python3.10/dist-packages (from matplotlib>=3.5->cartopy) (0.12.1)\n",
            "Requirement already satisfied: fonttools>=4.22.0 in /usr/local/lib/python3.10/dist-packages (from matplotlib>=3.5->cartopy) (4.51.0)\n",
            "Requirement already satisfied: kiwisolver>=1.0.1 in /usr/local/lib/python3.10/dist-packages (from matplotlib>=3.5->cartopy) (1.4.5)\n",
            "Requirement already satisfied: pillow>=6.2.0 in /usr/local/lib/python3.10/dist-packages (from matplotlib>=3.5->cartopy) (9.4.0)\n",
            "Requirement already satisfied: pyparsing>=2.3.1 in /usr/local/lib/python3.10/dist-packages (from matplotlib>=3.5->cartopy) (3.1.2)\n",
            "Requirement already satisfied: python-dateutil>=2.7 in /usr/local/lib/python3.10/dist-packages (from matplotlib>=3.5->cartopy) (2.8.2)\n",
            "Requirement already satisfied: certifi in /usr/local/lib/python3.10/dist-packages (from pyproj>=3.3.1->cartopy) (2024.2.2)\n",
            "Requirement already satisfied: six>=1.5 in /usr/local/lib/python3.10/dist-packages (from python-dateutil>=2.7->matplotlib>=3.5->cartopy) (1.16.0)\n",
            "Installing collected packages: cartopy\n",
            "Successfully installed cartopy-0.23.0\n"
          ]
        }
      ]
    },
    {
      "cell_type": "code",
      "source": [
        "# github clone:\n",
        "!git clone https://github.com/meteofrance/meteonet.git"
      ],
      "metadata": {
        "colab": {
          "base_uri": "https://localhost:8080/"
        },
        "id": "NfKq-tFKRnwA",
        "outputId": "43dec0d8-a7e2-4a3b-9d65-591b438dc028"
      },
      "execution_count": null,
      "outputs": [
        {
          "output_type": "stream",
          "name": "stdout",
          "text": [
            "Cloning into 'meteonet'...\n",
            "remote: Enumerating objects: 2139, done.\u001b[K\n",
            "remote: Counting objects: 100% (11/11), done.\u001b[K\n",
            "remote: Compressing objects: 100% (3/3), done.\u001b[K\n",
            "remote: Total 2139 (delta 10), reused 8 (delta 8), pack-reused 2128\u001b[K\n",
            "Receiving objects: 100% (2139/2139), 241.67 MiB | 18.59 MiB/s, done.\n",
            "Resolving deltas: 100% (1149/1149), done.\n",
            "Updating files: 100% (196/196), done.\n"
          ]
        }
      ]
    },
    {
      "cell_type": "code",
      "source": [
        "from meteonet.meteonet_toolbox.constant import DOMAINS\n",
        "import cartopy.crs as ccrs\n",
        "import cartopy.feature as cfeature\n",
        "import matplotlib.pyplot as plt"
      ],
      "metadata": {
        "id": "qLsMQmKXQh3u"
      },
      "execution_count": null,
      "outputs": []
    },
    {
      "cell_type": "code",
      "source": [
        "# Coordinates of studied area boundaries\n",
        "lllat = DOMAINS['NW']['lry']  #lower left latitude\n",
        "urlat = DOMAINS['NW']['uly']  #upper right latitude\n",
        "lllon = DOMAINS['NW']['ulx']  #lower left longitude\n",
        "urlon = DOMAINS['NW']['lrx']  #upper right longitude\n",
        "extent = [lllon, urlon, lllat, urlat]\n",
        "\n",
        "# Nantes coordenates\n",
        "nantes_lat = 47.2184\n",
        "nantes_lon = -1.5536\n",
        "\n",
        "fig = plt.figure(figsize=(9, 5))\n",
        "\n",
        "# Select projection\n",
        "ax = plt.axes(projection=ccrs.PlateCarree())\n",
        "\n",
        "# Plot the data\n",
        "plt.scatter(df['lon'], df['lat'], c=df['hu'], cmap='jet')  # Plot\n",
        "\n",
        "# Adding the coordenates of Nantes\n",
        "plt.plot(nantes_lon, nantes_lat, marker='s', markerfacecolor='black', markeredgecolor='white', markersize=8) # Adding the mark\n",
        "plt.text(nantes_lon + 0.05, nantes_lat + 0.005, 'Nantes', transform=ccrs.PlateCarree(), fontsize=10)  # # Adding the label\n",
        "\n",
        "# Add coastlines and borders\n",
        "ax.coastlines(resolution='50m', linewidth=1)\n",
        "ax.add_feature(cfeature.BORDERS.with_scale('50m'))\n",
        "\n",
        "# Show only the area we defined\n",
        "ax.set_extent(extent)\n"
      ],
      "metadata": {
        "id": "4brF-tVaTI4y",
        "colab": {
          "base_uri": "https://localhost:8080/",
          "height": 511
        },
        "outputId": "496ab4cf-87b8-44d3-8c09-e2195965e57e"
      },
      "execution_count": null,
      "outputs": [
        {
          "output_type": "stream",
          "name": "stderr",
          "text": [
            "/usr/local/lib/python3.10/dist-packages/cartopy/io/__init__.py:241: DownloadWarning: Downloading: https://naturalearth.s3.amazonaws.com/50m_physical/ne_50m_coastline.zip\n",
            "  warnings.warn(f'Downloading: {url}', DownloadWarning)\n",
            "/usr/local/lib/python3.10/dist-packages/cartopy/io/__init__.py:241: DownloadWarning: Downloading: https://naturalearth.s3.amazonaws.com/50m_cultural/ne_50m_admin_0_boundary_lines_land.zip\n",
            "  warnings.warn(f'Downloading: {url}', DownloadWarning)\n"
          ]
        },
        {
          "output_type": "display_data",
          "data": {
            "text/plain": [
              "<Figure size 900x500 with 1 Axes>"
            ],
            "image/png": "[encoded data removed]"
          },
          "metadata": {}
        }
      ]
    },
    {
      "cell_type": "markdown",
      "source": [
        "# Save the data:"
      ],
      "metadata": {
        "id": "1h--HJlYfxP1"
      }
    },
    {
      "cell_type": "code",
      "source": [
        "# Export dataset:\n",
        "df.write_csv('dataset.csv')"
      ],
      "metadata": {
        "id": "WQyWVraH7sul"
      },
      "execution_count": null,
      "outputs": []
    },
    {
      "cell_type": "code",
      "source": [
        "# Comunication with your drive:\n",
        "from google.colab import drive\n",
        "drive.mount('/content/drive')"
      ],
      "metadata": {
        "id": "ALZLIbSEfvwg",
        "colab": {
          "base_uri": "https://localhost:8080/"
        },
        "outputId": "167a3f63-57f8-4b06-816f-120de639f602"
      },
      "execution_count": null,
      "outputs": [
        {
          "output_type": "stream",
          "name": "stdout",
          "text": [
            "Mounted at /content/drive\n"
          ]
        }
      ]
    },
    {
      "cell_type": "code",
      "source": [
        "# Save the dataset in your drive:\n",
        "!mv dataset.csv \"/content/drive/MyDrive/\""
      ],
      "metadata": {
        "id": "YHQkgrejh1Io"
      },
      "execution_count": null,
      "outputs": []
    }
  ]
}